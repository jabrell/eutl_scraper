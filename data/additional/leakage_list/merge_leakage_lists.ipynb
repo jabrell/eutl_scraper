{
 "cells": [
  {
   "cell_type": "markdown",
   "metadata": {},
   "source": [
    "# Development: Impose NACE codes "
   ]
  },
  {
   "attachments": {},
   "cell_type": "markdown",
   "metadata": {},
   "source": [
    "Mergeing of leakage lists from different years to get nace codes of installations.\n",
    "\n",
    "Sources:  \n",
    "\n",
    "    - 2020: Is from preliminary assessment https://ec.europa.eu/clima/events/stakeholder-meeting-results-preliminary-carbon-leakage-list-phase-4-eu-emissions-trading_en\n",
    "    - 2015: https://climate.ec.europa.eu/document/download/56c44a4d-141d-4beb-8bdf-e0f7bed0dfa3_en?filename=installation_nace_rev2_matching_en.xls\n",
    "    \n",
    "\n",
    "jab 1.5.2020"
   ]
  },
  {
   "cell_type": "markdown",
   "metadata": {},
   "source": [
    "# Packages and options"
   ]
  },
  {
   "cell_type": "code",
   "execution_count": 1,
   "metadata": {},
   "outputs": [],
   "source": [
    "import pandas as pd"
   ]
  },
  {
   "cell_type": "code",
   "execution_count": 2,
   "metadata": {},
   "outputs": [],
   "source": [
    "fn_leakage_2015 = \"./leakage_2015.xls\"\n",
    "fn_leakage_2020 = \"./leakage_2020.xlsx\""
   ]
  },
  {
   "cell_type": "markdown",
   "metadata": {},
   "source": [
    "# Load data and merge lists"
   ]
  },
  {
   "cell_type": "code",
   "execution_count": 3,
   "metadata": {},
   "outputs": [
    {
     "name": "stdout",
     "output_type": "stream",
     "text": [
      "<class 'pandas.core.frame.DataFrame'>\n",
      "Int64Index: 13365 entries, 0 to 15891\n",
      "Data columns (total 2 columns):\n",
      " #   Column  Non-Null Count  Dtype  \n",
      "---  ------  --------------  -----  \n",
      " 0   id      13365 non-null  object \n",
      " 1   nace15  13365 non-null  float64\n",
      "dtypes: float64(1), object(1)\n",
      "memory usage: 313.2+ KB\n"
     ]
    }
   ],
   "source": [
    "df_l15 = pd.read_excel(fn_leakage_2015, na_values=\"-\")\n",
    "df_l15[\"id\"] = df_l15.COUNTRY_CODE + \"_\" + df_l15.INSTALLATION_IDENTIFIER.astype(\"str\")\n",
    "df_l15 = df_l15[[\"id\", \"NACE Rev2\"]].copy()\n",
    "df_l15.columns = [\"id\", \"nace15\"]\n",
    "df_l15 = df_l15[df_l15.nace15.notnull()].copy()\n",
    "#df_l15.nace15 = df_l15.nace15.astype(\"float\")\n",
    "df_l15.info()"
   ]
  },
  {
   "cell_type": "code",
   "execution_count": 4,
   "metadata": {},
   "outputs": [
    {
     "name": "stdout",
     "output_type": "stream",
     "text": [
      "<class 'pandas.core.frame.DataFrame'>\n",
      "Int64Index: 15068 entries, 0 to 15451\n",
      "Data columns (total 2 columns):\n",
      " #   Column  Non-Null Count  Dtype  \n",
      "---  ------  --------------  -----  \n",
      " 0   id      15068 non-null  object \n",
      " 1   nace20  15068 non-null  float64\n",
      "dtypes: float64(1), object(1)\n",
      "memory usage: 353.2+ KB\n"
     ]
    }
   ],
   "source": [
    "df_l20 = pd.read_excel(fn_leakage_2020, skiprows=2)\n",
    "df_l20[\"id\"] = df_l20.COUNTRY_CODE + \"_\" + df_l20.INSTALLATION_IDENTIFIER.astype(\"str\")\n",
    "df_l20 = df_l20[[\"id\", \"NACE Rev2\"]].copy()\n",
    "df_l20.columns = [\"id\", \"nace20\"]\n",
    "df_l20 = df_l20[df_l20.nace20.notnull()].copy()\n",
    "df_l20.info()"
   ]
  },
  {
   "cell_type": "code",
   "execution_count": 5,
   "metadata": {},
   "outputs": [
    {
     "name": "stdout",
     "output_type": "stream",
     "text": [
      "<class 'pandas.core.frame.DataFrame'>\n",
      "Int64Index: 15084 entries, 0 to 15083\n",
      "Data columns (total 3 columns):\n",
      " #   Column  Non-Null Count  Dtype  \n",
      "---  ------  --------------  -----  \n",
      " 0   id      15084 non-null  object \n",
      " 1   nace15  13365 non-null  float64\n",
      " 2   nace20  15076 non-null  float64\n",
      "dtypes: float64(2), object(1)\n",
      "memory usage: 471.4+ KB\n"
     ]
    }
   ],
   "source": [
    "df_nace = df_l15.merge(df_l20, on=\"id\", how=\"outer\")\n",
    "df_nace.info()"
   ]
  },
  {
   "cell_type": "code",
   "execution_count": 6,
   "metadata": {},
   "outputs": [
    {
     "name": "stdout",
     "output_type": "stream",
     "text": [
      "<class 'pandas.core.frame.DataFrame'>\n",
      "Int64Index: 15084 entries, 0 to 15083\n",
      "Data columns (total 4 columns):\n",
      " #   Column  Non-Null Count  Dtype  \n",
      "---  ------  --------------  -----  \n",
      " 0   id      15084 non-null  object \n",
      " 1   nace15  13365 non-null  float64\n",
      " 2   nace20  15076 non-null  float64\n",
      " 3   nace    15084 non-null  float64\n",
      "dtypes: float64(3), object(1)\n",
      "memory usage: 589.2+ KB\n"
     ]
    }
   ],
   "source": [
    "df_nace[\"nace\"] = df_nace.nace20.fillna(df_nace.nace15)\n",
    "df_nace.info()"
   ]
  },
  {
   "cell_type": "markdown",
   "metadata": {},
   "source": [
    "Modify codes to have always have two digits before the dot"
   ]
  },
  {
   "cell_type": "code",
   "execution_count": 7,
   "metadata": {},
   "outputs": [],
   "source": [
    "to_adjust = df_nace.nace.map(lambda x: len(str(x).split(\".\")[0]) < 2)\n",
    "df_nace.loc[to_adjust, \"nace\"] = df_nace[to_adjust].nace.map(lambda x: \"0\" + str(x))\n",
    "\n",
    "to_adjust = df_nace.nace15.map(lambda x: len(str(x).split(\".\")[0]) < 2)\n",
    "df_nace.loc[to_adjust, \"nace15\"] = df_nace[to_adjust].nace15.map(lambda x: \"0\" + str(x))\n",
    "\n",
    "to_adjust = df_nace.nace20.map(lambda x: len(str(x).split(\".\")[0]) < 2)\n",
    "df_nace.loc[to_adjust, \"nace20\"] = df_nace[to_adjust].nace20.map(lambda x: \"0\" + str(x))\n"
   ]
  },
  {
   "cell_type": "markdown",
   "metadata": {},
   "source": [
    "# Analysis"
   ]
  },
  {
   "cell_type": "code",
   "execution_count": 8,
   "metadata": {},
   "outputs": [
    {
     "data": {
      "text/html": [
       "<div>\n",
       "<style scoped>\n",
       "    .dataframe tbody tr th:only-of-type {\n",
       "        vertical-align: middle;\n",
       "    }\n",
       "\n",
       "    .dataframe tbody tr th {\n",
       "        vertical-align: top;\n",
       "    }\n",
       "\n",
       "    .dataframe thead th {\n",
       "        text-align: right;\n",
       "    }\n",
       "</style>\n",
       "<table border=\"1\" class=\"dataframe\">\n",
       "  <thead>\n",
       "    <tr style=\"text-align: right;\">\n",
       "      <th></th>\n",
       "      <th>id</th>\n",
       "      <th>nace15</th>\n",
       "      <th>nace20</th>\n",
       "      <th>nace</th>\n",
       "      <th>is_same</th>\n",
       "    </tr>\n",
       "  </thead>\n",
       "  <tbody>\n",
       "    <tr>\n",
       "      <th>14</th>\n",
       "      <td>AT_15</td>\n",
       "      <td>24.1</td>\n",
       "      <td>35.1</td>\n",
       "      <td>35.1</td>\n",
       "      <td>False</td>\n",
       "    </tr>\n",
       "    <tr>\n",
       "      <th>82</th>\n",
       "      <td>AT_83</td>\n",
       "      <td>17.12</td>\n",
       "      <td>35.1</td>\n",
       "      <td>35.1</td>\n",
       "      <td>False</td>\n",
       "    </tr>\n",
       "    <tr>\n",
       "      <th>579</th>\n",
       "      <td>BE_749</td>\n",
       "      <td>20.14</td>\n",
       "      <td>35.1</td>\n",
       "      <td>35.1</td>\n",
       "      <td>False</td>\n",
       "    </tr>\n",
       "    <tr>\n",
       "      <th>614</th>\n",
       "      <td>BG_3</td>\n",
       "      <td>22.11</td>\n",
       "      <td>35.1</td>\n",
       "      <td>35.1</td>\n",
       "      <td>False</td>\n",
       "    </tr>\n",
       "    <tr>\n",
       "      <th>714</th>\n",
       "      <td>BG_103</td>\n",
       "      <td>35.11</td>\n",
       "      <td>35.3</td>\n",
       "      <td>35.3</td>\n",
       "      <td>False</td>\n",
       "    </tr>\n",
       "    <tr>\n",
       "      <th>...</th>\n",
       "      <td>...</td>\n",
       "      <td>...</td>\n",
       "      <td>...</td>\n",
       "      <td>...</td>\n",
       "      <td>...</td>\n",
       "    </tr>\n",
       "    <tr>\n",
       "      <th>12790</th>\n",
       "      <td>SE_532</td>\n",
       "      <td>25.62</td>\n",
       "      <td>35.3</td>\n",
       "      <td>35.3</td>\n",
       "      <td>False</td>\n",
       "    </tr>\n",
       "    <tr>\n",
       "      <th>12901</th>\n",
       "      <td>SE_656</td>\n",
       "      <td>25.62</td>\n",
       "      <td>35.3</td>\n",
       "      <td>35.3</td>\n",
       "      <td>False</td>\n",
       "    </tr>\n",
       "    <tr>\n",
       "      <th>13007</th>\n",
       "      <td>SE_780</td>\n",
       "      <td>24.1</td>\n",
       "      <td>35.1</td>\n",
       "      <td>35.1</td>\n",
       "      <td>False</td>\n",
       "    </tr>\n",
       "    <tr>\n",
       "      <th>13211</th>\n",
       "      <td>SK_53</td>\n",
       "      <td>20.14</td>\n",
       "      <td>35.1</td>\n",
       "      <td>35.1</td>\n",
       "      <td>False</td>\n",
       "    </tr>\n",
       "    <tr>\n",
       "      <th>13224</th>\n",
       "      <td>SK_66</td>\n",
       "      <td>17.12</td>\n",
       "      <td>35.3</td>\n",
       "      <td>35.3</td>\n",
       "      <td>False</td>\n",
       "    </tr>\n",
       "  </tbody>\n",
       "</table>\n",
       "<p>275 rows × 5 columns</p>\n",
       "</div>"
      ],
      "text/plain": [
       "           id nace15 nace20  nace  is_same\n",
       "14      AT_15   24.1   35.1  35.1    False\n",
       "82      AT_83  17.12   35.1  35.1    False\n",
       "579    BE_749  20.14   35.1  35.1    False\n",
       "614      BG_3  22.11   35.1  35.1    False\n",
       "714    BG_103  35.11   35.3  35.3    False\n",
       "...       ...    ...    ...   ...      ...\n",
       "12790  SE_532  25.62   35.3  35.3    False\n",
       "12901  SE_656  25.62   35.3  35.3    False\n",
       "13007  SE_780   24.1   35.1  35.1    False\n",
       "13211   SK_53  20.14   35.1  35.1    False\n",
       "13224   SK_66  17.12   35.3  35.3    False\n",
       "\n",
       "[275 rows x 5 columns]"
      ]
     },
     "execution_count": 8,
     "metadata": {},
     "output_type": "execute_result"
    }
   ],
   "source": [
    "df_nace[\"is_same\"] = df_nace.nace15 == df_nace.nace20\n",
    "df_nace[(~df_nace[\"is_same\"]) & (df_nace.nace15.notnull())]"
   ]
  },
  {
   "cell_type": "code",
   "execution_count": 9,
   "metadata": {},
   "outputs": [
    {
     "data": {
      "text/html": [
       "<div>\n",
       "<style scoped>\n",
       "    .dataframe tbody tr th:only-of-type {\n",
       "        vertical-align: middle;\n",
       "    }\n",
       "\n",
       "    .dataframe tbody tr th {\n",
       "        vertical-align: top;\n",
       "    }\n",
       "\n",
       "    .dataframe thead th {\n",
       "        text-align: right;\n",
       "    }\n",
       "</style>\n",
       "<table border=\"1\" class=\"dataframe\">\n",
       "  <thead>\n",
       "    <tr style=\"text-align: right;\">\n",
       "      <th></th>\n",
       "      <th>id</th>\n",
       "      <th>nace15</th>\n",
       "      <th>nace20</th>\n",
       "      <th>nace</th>\n",
       "      <th>is_same</th>\n",
       "    </tr>\n",
       "  </thead>\n",
       "  <tbody>\n",
       "    <tr>\n",
       "      <th>772</th>\n",
       "      <td>CY_1</td>\n",
       "      <td>35.11</td>\n",
       "      <td>NaN</td>\n",
       "      <td>35.11</td>\n",
       "      <td>False</td>\n",
       "    </tr>\n",
       "    <tr>\n",
       "      <th>773</th>\n",
       "      <td>CY_2</td>\n",
       "      <td>35.11</td>\n",
       "      <td>NaN</td>\n",
       "      <td>35.11</td>\n",
       "      <td>False</td>\n",
       "    </tr>\n",
       "    <tr>\n",
       "      <th>774</th>\n",
       "      <td>CY_3</td>\n",
       "      <td>35.11</td>\n",
       "      <td>NaN</td>\n",
       "      <td>35.11</td>\n",
       "      <td>False</td>\n",
       "    </tr>\n",
       "    <tr>\n",
       "      <th>775</th>\n",
       "      <td>CY_11</td>\n",
       "      <td>23.51</td>\n",
       "      <td>NaN</td>\n",
       "      <td>23.51</td>\n",
       "      <td>False</td>\n",
       "    </tr>\n",
       "    <tr>\n",
       "      <th>776</th>\n",
       "      <td>CY_12</td>\n",
       "      <td>23.41</td>\n",
       "      <td>NaN</td>\n",
       "      <td>23.41</td>\n",
       "      <td>False</td>\n",
       "    </tr>\n",
       "    <tr>\n",
       "      <th>777</th>\n",
       "      <td>CY_13</td>\n",
       "      <td>23.32</td>\n",
       "      <td>NaN</td>\n",
       "      <td>23.32</td>\n",
       "      <td>False</td>\n",
       "    </tr>\n",
       "    <tr>\n",
       "      <th>10098</th>\n",
       "      <td>MT_220000000000001</td>\n",
       "      <td>35.11</td>\n",
       "      <td>NaN</td>\n",
       "      <td>35.11</td>\n",
       "      <td>False</td>\n",
       "    </tr>\n",
       "    <tr>\n",
       "      <th>10099</th>\n",
       "      <td>MT_220000000000002</td>\n",
       "      <td>35.11</td>\n",
       "      <td>NaN</td>\n",
       "      <td>35.11</td>\n",
       "      <td>False</td>\n",
       "    </tr>\n",
       "  </tbody>\n",
       "</table>\n",
       "</div>"
      ],
      "text/plain": [
       "                       id nace15 nace20   nace  is_same\n",
       "772                  CY_1  35.11    NaN  35.11    False\n",
       "773                  CY_2  35.11    NaN  35.11    False\n",
       "774                  CY_3  35.11    NaN  35.11    False\n",
       "775                 CY_11  23.51    NaN  23.51    False\n",
       "776                 CY_12  23.41    NaN  23.41    False\n",
       "777                 CY_13  23.32    NaN  23.32    False\n",
       "10098  MT_220000000000001  35.11    NaN  35.11    False\n",
       "10099  MT_220000000000002  35.11    NaN  35.11    False"
      ]
     },
     "execution_count": 9,
     "metadata": {},
     "output_type": "execute_result"
    }
   ],
   "source": [
    "df_nace[(df_nace.nace20.isnull()) & (df_nace.nace15.notnull())]"
   ]
  },
  {
   "cell_type": "markdown",
   "metadata": {},
   "source": [
    "So we can see that there is a slight change for some installations (275) which seem to have been moved to 35.3. The new list misses codes for some early installations. We add these from the older list."
   ]
  },
  {
   "cell_type": "markdown",
   "metadata": {},
   "source": [
    "# Export"
   ]
  },
  {
   "cell_type": "code",
   "execution_count": 10,
   "metadata": {},
   "outputs": [],
   "source": [
    "df_nace.to_csv(\"../nace_leakage.csv\", index=False)"
   ]
  },
  {
   "cell_type": "code",
   "execution_count": 11,
   "metadata": {},
   "outputs": [
    {
     "name": "stdout",
     "output_type": "stream",
     "text": [
      "<class 'pandas.core.frame.DataFrame'>\n",
      "Int64Index: 15084 entries, 0 to 15083\n",
      "Data columns (total 5 columns):\n",
      " #   Column   Non-Null Count  Dtype \n",
      "---  ------   --------------  ----- \n",
      " 0   id       15084 non-null  object\n",
      " 1   nace15   13365 non-null  object\n",
      " 2   nace20   15076 non-null  object\n",
      " 3   nace     15084 non-null  object\n",
      " 4   is_same  15084 non-null  bool  \n",
      "dtypes: bool(1), object(4)\n",
      "memory usage: 603.9+ KB\n"
     ]
    }
   ],
   "source": [
    "df_nace.info()"
   ]
  },
  {
   "cell_type": "code",
   "execution_count": null,
   "metadata": {},
   "outputs": [],
   "source": []
  }
 ],
 "metadata": {
  "kernelspec": {
   "display_name": "Python [conda env:py38_gams]",
   "language": "python",
   "name": "conda-env-py38_gams-py"
  },
  "language_info": {
   "codemirror_mode": {
    "name": "ipython",
    "version": 3
   },
   "file_extension": ".py",
   "mimetype": "text/x-python",
   "name": "python",
   "nbconvert_exporter": "python",
   "pygments_lexer": "ipython3",
   "version": "3.8.5"
  },
  "toc": {
   "base_numbering": 1,
   "nav_menu": {},
   "number_sections": true,
   "sideBar": true,
   "skip_h1_title": false,
   "title_cell": "Table of Contents",
   "title_sidebar": "Contents",
   "toc_cell": false,
   "toc_position": {},
   "toc_section_display": true,
   "toc_window_display": false
  },
  "varInspector": {
   "cols": {
    "lenName": 16,
    "lenType": 16,
    "lenVar": 40
   },
   "kernels_config": {
    "python": {
     "delete_cmd_postfix": "",
     "delete_cmd_prefix": "del ",
     "library": "var_list.py",
     "varRefreshCmd": "print(var_dic_list())"
    },
    "r": {
     "delete_cmd_postfix": ") ",
     "delete_cmd_prefix": "rm(",
     "library": "var_list.r",
     "varRefreshCmd": "cat(var_dic_list()) "
    }
   },
   "types_to_exclude": [
    "module",
    "function",
    "builtin_function_or_method",
    "instance",
    "_Feature"
   ],
   "window_display": false
  }
 },
 "nbformat": 4,
 "nbformat_minor": 4
}
